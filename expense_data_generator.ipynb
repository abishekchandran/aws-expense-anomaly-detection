{
 "cells": [
  {
   "cell_type": "code",
   "execution_count": 1,
   "id": "86317c77",
   "metadata": {},
   "outputs": [],
   "source": [
    "import pandas as pd\n",
    "import numpy as np"
   ]
  },
  {
   "cell_type": "code",
   "execution_count": 3,
   "id": "43b28f10",
   "metadata": {},
   "outputs": [],
   "source": [
    "# Generating a simulated AWS expense dataset\n",
    "start_date = '2023-01-01'\n",
    "end_date = '2023-12-31'\n",
    "\n",
    "dates = pd.date_range(start=start_date, end=end_date)\n",
    "expenses = []\n",
    "\n",
    "for date in dates:\n",
    "    # Simulating varying expenses based on different services or instances\n",
    "    expense = np.random.randint(500, 2000)  # Adjust the range based on your scenario\n",
    "    expenses.append(expense)\n",
    "\n",
    "# Creating the DataFrame\n",
    "df = pd.DataFrame({'Date': dates, 'Expense ($)': expenses})\n",
    "\n",
    "# Exporting to CSV\n",
    "df.to_csv('aws_expenses.csv', index=False)  # Change the filename as needed\n"
   ]
  }
 ],
 "metadata": {
  "kernelspec": {
   "display_name": "Python 3 (ipykernel)",
   "language": "python",
   "name": "python3"
  },
  "language_info": {
   "codemirror_mode": {
    "name": "ipython",
    "version": 3
   },
   "file_extension": ".py",
   "mimetype": "text/x-python",
   "name": "python",
   "nbconvert_exporter": "python",
   "pygments_lexer": "ipython3",
   "version": "3.11.5"
  }
 },
 "nbformat": 4,
 "nbformat_minor": 5
}
